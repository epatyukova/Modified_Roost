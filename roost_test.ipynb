{
 "cells": [
  {
   "cell_type": "code",
   "execution_count": 1,
   "metadata": {},
   "outputs": [],
   "source": [
    "import numpy as np\n",
    "import pandas as pd\n",
    "import torch\n",
    "import os\n",
    "import re\n",
    "import json\n",
    "import pytorch_lightning as L\n",
    "import itertools\n",
    "\n",
    "from pytorch_lightning.loggers.csv_logs import CSVLogger\n",
    "from pytorch_lightning.loggers import WandbLogger\n",
    "from pytorch_lightning.callbacks import ModelCheckpoint\n",
    "\n",
    "from torch_geometric.nn import MessagePassing, GATv2Conv\n",
    "from torch_geometric.data import Data\n",
    "from torch_geometric.loader import DataLoader\n",
    "\n",
    "from torch.nn import Linear, Parameter\n",
    "import torch.nn as nn\n",
    "\n",
    "from torch.optim import AdamW\n",
    "from torch import Tensor\n",
    "from torch.nn import CrossEntropyLoss, L1Loss, MSELoss, ReLU\n",
    "from sklearn.model_selection import train_test_split"
   ]
  },
  {
   "cell_type": "code",
   "execution_count": 2,
   "metadata": {},
   "outputs": [],
   "source": [
    "data_dir='/Users/patyukoe/Documents/GitHub/roost/data/datasets/roost/'\n",
    "# data_path_train=data_dir+'data_for_roost_merged_train.csv'\n",
    "data_path_train=data_dir+'roost_e_form.csv'\n",
    "# data_path_test=data_dir+'data_for_roost_merged_test.csv'\n",
    "# data_path_aflow=data_dir+'aflow_roost.csv'\n",
    "# data_path_TE=data_dir+'TE_merged_all_exp.csv'\n",
    "# data_path_Li=data_dir+'Li-data-roost.csv'"
   ]
  },
  {
   "cell_type": "code",
   "execution_count": 3,
   "metadata": {},
   "outputs": [],
   "source": [
    "fea_path='/Users/patyukoe/Documents/GitHub/roost/data/el-embeddings/onehot-embedding.json'\n",
    "with open(fea_path,\"r\") as f:\n",
    "    elem_features=json.load(f)\n",
    "elem_emb_len=len(elem_features['H'])"
   ]
  },
  {
   "cell_type": "code",
   "execution_count": 4,
   "metadata": {},
   "outputs": [
    {
     "data": {
      "text/html": [
       "<div>\n",
       "<style scoped>\n",
       "    .dataframe tbody tr th:only-of-type {\n",
       "        vertical-align: middle;\n",
       "    }\n",
       "\n",
       "    .dataframe tbody tr th {\n",
       "        vertical-align: top;\n",
       "    }\n",
       "\n",
       "    .dataframe thead th {\n",
       "        text-align: right;\n",
       "    }\n",
       "</style>\n",
       "<table border=\"1\" class=\"dataframe\">\n",
       "  <thead>\n",
       "    <tr style=\"text-align: right;\">\n",
       "      <th></th>\n",
       "      <th>material_id</th>\n",
       "      <th>composition</th>\n",
       "      <th>target</th>\n",
       "    </tr>\n",
       "  </thead>\n",
       "  <tbody>\n",
       "    <tr>\n",
       "      <th>0</th>\n",
       "      <td>0</td>\n",
       "      <td>C10000Pt10000</td>\n",
       "      <td>1.995384</td>\n",
       "    </tr>\n",
       "    <tr>\n",
       "      <th>1</th>\n",
       "      <td>1</td>\n",
       "      <td>C10000Cd10000</td>\n",
       "      <td>2.103048</td>\n",
       "    </tr>\n",
       "    <tr>\n",
       "      <th>2</th>\n",
       "      <td>2</td>\n",
       "      <td>C10000Cd10000</td>\n",
       "      <td>1.983566</td>\n",
       "    </tr>\n",
       "    <tr>\n",
       "      <th>3</th>\n",
       "      <td>3</td>\n",
       "      <td>N10000Au10000</td>\n",
       "      <td>1.528850</td>\n",
       "    </tr>\n",
       "    <tr>\n",
       "      <th>4</th>\n",
       "      <td>4</td>\n",
       "      <td>C10000Ag10000</td>\n",
       "      <td>2.235059</td>\n",
       "    </tr>\n",
       "  </tbody>\n",
       "</table>\n",
       "</div>"
      ],
      "text/plain": [
       "   material_id    composition    target\n",
       "0            0  C10000Pt10000  1.995384\n",
       "1            1  C10000Cd10000  2.103048\n",
       "2            2  C10000Cd10000  1.983566\n",
       "3            3  N10000Au10000  1.528850\n",
       "4            4  C10000Ag10000  2.235059"
      ]
     },
     "execution_count": 4,
     "metadata": {},
     "output_type": "execute_result"
    }
   ],
   "source": [
    "df=pd.read_csv(data_path_train)\n",
    "df.head()"
   ]
  },
  {
   "cell_type": "code",
   "execution_count": 5,
   "metadata": {},
   "outputs": [],
   "source": [
    "from Data import data_from_composition"
   ]
  },
  {
   "cell_type": "code",
   "execution_count": 6,
   "metadata": {},
   "outputs": [],
   "source": [
    "dataset=data_from_composition(df,elem_features)"
   ]
  },
  {
   "cell_type": "code",
   "execution_count": 7,
   "metadata": {},
   "outputs": [
    {
     "data": {
      "image/png": "[encoded data removed]",
      "text/plain": [
       "<Figure size 300x300 with 1 Axes>"
      ]
     },
     "metadata": {},
     "output_type": "display_data"
    }
   ],
   "source": [
    "from torch_geometric.utils import to_networkx\n",
    "import networkx as nx\n",
    "import matplotlib.pyplot as plt\n",
    "\n",
    "g = to_networkx(dataset[1000], to_undirected=False)\n",
    "plt.figure(figsize=(3,3))\n",
    "nx.draw(g, with_labels=True)\n",
    "plt.show()"
   ]
  },
  {
   "cell_type": "code",
   "execution_count": 8,
   "metadata": {},
   "outputs": [],
   "source": [
    "config={\n",
    "      'seed': 0,  # ensure reproducible results\n",
    "      'model_name': 'roost',\n",
    "      'epochs': 50,\n",
    "      'patience': 10,\n",
    "      'test_size': 0.1,\n",
    "      'val_size': 0.1,\n",
    "      'train': True,\n",
    "      'evaluate': True,\n",
    "      'data_params': {\"batch_size\": 128,\n",
    "                      \"pin_memory\": False,\n",
    "                      \"shuffle\": True,\n",
    "                      \"data_seed\": 0},\n",
    "      'setup_params': {\"optim\": \"AdamW\",\n",
    "                       \"learning_rate\": 3e-4, #3e-4\n",
    "                       \"weight_decay\": 1e-6, #1e-6\n",
    "                       \"momentum\": 0.9,\n",
    "                       \"loss\": L1Loss}, #0.9\n",
    "      'model_params': {'input_dim': 112,\n",
    "                        'output_dim': 1,\n",
    "                        'hidden_layer_dims': [1024,512,256,128,64],\n",
    "                        'n_graphs': 3,\n",
    "                        'elem_heads': 4,\n",
    "                        'internal_elem_dim': 64,\n",
    "                        'g_elem_dim': 256,\n",
    "                        'f_elem_dim': 256,\n",
    "                        'comp_heads': 4,\n",
    "                        'g_comp_dim': 256,\n",
    "                        'f_comp_dim': 256,\n",
    "                        'batchnorm': False,     \n",
    "                        'negative_slope': 0.2\n",
    "                        }\n",
    "}"
   ]
  },
  {
   "cell_type": "code",
   "execution_count": 9,
   "metadata": {},
   "outputs": [],
   "source": [
    "index=np.linspace(0,len(dataset)-1,len(dataset),dtype=int)\n",
    "train_idx,test_idx= train_test_split(index, test_size=config['test_size'], random_state=42)\n",
    "train_idx,val_idx= train_test_split(train_idx, test_size=config['val_size'], random_state=42)\n",
    "val_set = torch.utils.data.Subset(dataset, val_idx)\n",
    "test_set = torch.utils.data.Subset(dataset, test_idx)\n",
    "train_set = torch.utils.data.Subset(dataset, train_idx)\n",
    "train_loader = DataLoader(train_set, batch_size=config['data_params']['batch_size'])\n",
    "val_loader = DataLoader(val_set, batch_size=config['data_params']['batch_size'])\n",
    "test_loader = DataLoader(test_set, batch_size=1)"
   ]
  },
  {
   "cell_type": "code",
   "execution_count": 41,
   "metadata": {},
   "outputs": [],
   "source": [
    "from Model import Roost\n",
    "\n",
    "from torch.nn import L1Loss\n",
    "import torch.nn.functional as F\n",
    "from pytorch_lightning.loggers.wandb import WandbLogger\n",
    "from pytorch_lightning.callbacks import ModelCheckpoint\n",
    "from pytorch_lightning.callbacks.early_stopping import EarlyStopping\n",
    "from pytorch_lightning import Trainer\n",
    "from torchmetrics.functional import mean_squared_error, mean_absolute_error"
   ]
  },
  {
   "cell_type": "code",
   "execution_count": 49,
   "metadata": {},
   "outputs": [
    {
     "name": "stdout",
     "output_type": "stream",
     "text": [
      "+----------------------------------------------+------------------------+----------------+-----------+\n",
      "| Layer                                        | Input Shape            | Output Shape   | #Param    |\n",
      "|----------------------------------------------+------------------------+----------------+-----------|\n",
      "| Roost                                        | [4, 112], [2, 16], [4] | [1]            | 2,716,561 |\n",
      "| ├─(material_nn)DescriptorNetwork             | [4, 112], [2, 16], [4] | [64]           | 1,190,800 |\n",
      "| │    └─(project_fea)Linear                   | [4, 112]               | [4, 63]        | 7,056     |\n",
      "| │    └─(graphs)ModuleList                    | --                     | --             | 986,112   |\n",
      "| │    │    └─(0)GATRoostLayer                 | [4, 64], [2, 16], [4]  | [4, 64]        | 328,704   |\n",
      "| │    │    └─(1)GATRoostLayer                 | [4, 64], [2, 16], [4]  | [4, 64]        | 328,704   |\n",
      "| │    │    └─(2)GATRoostLayer                 | [4, 64], [2, 16], [4]  | [4, 64]        | 328,704   |\n",
      "| │    └─(comp_pool)ModuleList                 | --                     | --             | 197,632   |\n",
      "| │    │    └─(0)WeightedAttentionPooling_comp | [4, 64], [2, 16], [4]  | [64]           | 49,408    |\n",
      "| │    │    └─(1)WeightedAttentionPooling_comp | [4, 64], [2, 16], [4]  | [64]           | 49,408    |\n",
      "| │    │    └─(2)WeightedAttentionPooling_comp | [4, 64], [2, 16], [4]  | [64]           | 49,408    |\n",
      "| │    │    └─(3)WeightedAttentionPooling_comp | [4, 64], [2, 16], [4]  | [64]           | 49,408    |\n",
      "| ├─(resnet)ResidualNetwork                    | [64]                   | [1]            | 1,525,761 |\n",
      "| │    └─(fcs)ModuleList                       | --                     | --             | 763,840   |\n",
      "| │    │    └─(0)Linear                        | [64]                   | [1024]         | 66,560    |\n",
      "| │    │    └─(1)Linear                        | [1024]                 | [512]          | 524,800   |\n",
      "| │    │    └─(2)Linear                        | [512]                  | [256]          | 131,328   |\n",
      "| │    │    └─(3)Linear                        | [256]                  | [128]          | 32,896    |\n",
      "| │    │    └─(4)Linear                        | [128]                  | [64]           | 8,256     |\n",
      "| │    └─(bns)ModuleList                       | --                     | --             | --        |\n",
      "| │    │    └─(0)Identity                      | [1024]                 | [1024]         | --        |\n",
      "| │    │    └─(1)Identity                      | [512]                  | [512]          | --        |\n",
      "| │    │    └─(2)Identity                      | [256]                  | [256]          | --        |\n",
      "| │    │    └─(3)Identity                      | [128]                  | [128]          | --        |\n",
      "| │    │    └─(4)Identity                      | [64]                   | [64]           | --        |\n",
      "| │    └─(res_fcs)ModuleList                   | --                     | --             | 761,856   |\n",
      "| │    │    └─(0)Linear                        | [64]                   | [1024]         | 65,536    |\n",
      "| │    │    └─(1)Linear                        | [1024]                 | [512]          | 524,288   |\n",
      "| │    │    └─(2)Linear                        | [512]                  | [256]          | 131,072   |\n",
      "| │    │    └─(3)Linear                        | [256]                  | [128]          | 32,768    |\n",
      "| │    │    └─(4)Linear                        | [128]                  | [64]           | 8,192     |\n",
      "| │    └─(acts)ModuleList                      | --                     | --             | --        |\n",
      "| │    │    └─(0)LeakyReLU                     | [1024]                 | [1024]         | --        |\n",
      "| │    │    └─(1)LeakyReLU                     | [512]                  | [512]          | --        |\n",
      "| │    │    └─(2)LeakyReLU                     | [256]                  | [256]          | --        |\n",
      "| │    │    └─(3)LeakyReLU                     | [128]                  | [128]          | --        |\n",
      "| │    │    └─(4)LeakyReLU                     | [64]                   | [64]           | --        |\n",
      "| │    └─(fc_out)Linear                        | [64]                   | [1]            | 65        |\n",
      "+----------------------------------------------+------------------------+----------------+-----------+\n"
     ]
    }
   ],
   "source": [
    "from torch_geometric.nn import summary\n",
    "\n",
    "model_vis=Roost(**config['model_params'])\n",
    "data=dataset[100000]\n",
    "print(summary(model_vis, data.x, data.edge_index, data.pos))"
   ]
  },
  {
   "cell_type": "code",
   "execution_count": 42,
   "metadata": {},
   "outputs": [
    {
     "name": "stderr",
     "output_type": "stream",
     "text": [
      "Failed to detect the name of this notebook, you can set it manually with the WANDB_NOTEBOOK_NAME environment variable to enable code saving.\n",
      "\u001b[34m\u001b[1mwandb\u001b[0m: Currently logged in as: \u001b[33mepat\u001b[0m. Use \u001b[1m`wandb login --relogin`\u001b[0m to force relogin\n",
      "\u001b[34m\u001b[1mwandb\u001b[0m: \u001b[33mWARNING\u001b[0m Path wandb_logs/wandb/ wasn't writable, using system temp directory.\n",
      "wandb: WARNING Path wandb_logs/wandb/ wasn't writable, using system temp directory\n"
     ]
    },
    {
     "data": {
      "text/html": [
       "Tracking run with wandb version 0.14.2"
      ],
      "text/plain": [
       "<IPython.core.display.HTML object>"
      ]
     },
     "metadata": {},
     "output_type": "display_data"
    },
    {
     "data": {
      "text/html": [
       "Run data is saved locally in <code>/var/folders/xk/fbxrnx9s1gq7hnh7qg5l4c2xp9sgq2/T/wandb/run-20230412_204429-bns4mhmc</code>"
      ],
      "text/plain": [
       "<IPython.core.display.HTML object>"
      ]
     },
     "metadata": {},
     "output_type": "display_data"
    },
    {
     "data": {
      "text/html": [
       "Syncing run <strong><a href='https://wandb.ai/epat/Roost/runs/bns4mhmc' target=\"_blank\">Roost</a></strong> to <a href='https://wandb.ai/epat/Roost' target=\"_blank\">Weights & Biases</a> (<a href='https://wandb.me/run' target=\"_blank\">docs</a>)<br/>"
      ],
      "text/plain": [
       "<IPython.core.display.HTML object>"
      ]
     },
     "metadata": {},
     "output_type": "display_data"
    },
    {
     "data": {
      "text/html": [
       " View project at <a href='https://wandb.ai/epat/Roost' target=\"_blank\">https://wandb.ai/epat/Roost</a>"
      ],
      "text/plain": [
       "<IPython.core.display.HTML object>"
      ]
     },
     "metadata": {},
     "output_type": "display_data"
    },
    {
     "data": {
      "text/html": [
       " View run at <a href='https://wandb.ai/epat/Roost/runs/bns4mhmc' target=\"_blank\">https://wandb.ai/epat/Roost/runs/bns4mhmc</a>"
      ],
      "text/plain": [
       "<IPython.core.display.HTML object>"
      ]
     },
     "metadata": {},
     "output_type": "display_data"
    }
   ],
   "source": [
    "wandb_logger = WandbLogger(project=\"Roost\", name=\"Roost\", save_dir=\"wandb_logs\")"
   ]
  },
  {
   "cell_type": "code",
   "execution_count": 43,
   "metadata": {},
   "outputs": [],
   "source": [
    "class RoostLightning(L.LightningModule):\n",
    "    def __init__(self, **config):\n",
    "        super().__init__()\n",
    "        # Saving hyperparameters\n",
    "        self.save_hyperparameters()\n",
    "\n",
    "        self.model = Roost(**config['model_params'])\n",
    "        \n",
    "        # self.loss_module = config['setup_params']['loss']()\n",
    "        self.loss_module=L1Loss()\n",
    "    \n",
    "    def forward(self, batch):\n",
    "        return self.model(batch.x, batch.edge_index, batch.pos, batch.batch)\n",
    "\n",
    "    def configure_optimizers(self):\n",
    "        # We use AdamW optimizer with MultistepLR scheduler as in the original Roost model\n",
    "        optimizer = torch.optim.AdamW(self.parameters(),lr=config['setup_params']['learning_rate'], \n",
    "                                      weight_decay=config['setup_params']['weight_decay']) \n",
    "        scheduler = torch.optim.lr_scheduler.MultiStepLR(optimizer, milestones=[], gamma=0.3)\n",
    "        return [optimizer], [scheduler]\n",
    "\n",
    "    def training_step(self, batch, batch_idx):\n",
    "        _, loss, mae, rmse = self._get_preds_loss_mae_rmse(batch, batch_idx)\n",
    "        self.log(\"train_loss\", loss, on_step=True, on_epoch=True, prog_bar=True, logger=True, batch_size=config['data_params']['batch_size'])\n",
    "        self.log(\"train_mae\", mae, on_step=True, on_epoch=True, prog_bar=True, logger=True,batch_size=config['data_params']['batch_size'])\n",
    "        self.log(\"train_rmse\", rmse, on_step=True, on_epoch=True, prog_bar=True, logger=True,batch_size=config['data_params']['batch_size'])\n",
    "        return loss\n",
    "\n",
    "    def validation_step(self, batch, batch_idx):\n",
    "        _, loss, mae, rmse = self._get_preds_loss_mae_rmse(batch, batch_idx)\n",
    "        self.log(\"val_loss\", loss,  on_epoch=True, logger=True)\n",
    "        self.log(\"val_mae\", mae, on_epoch=True, logger=True)\n",
    "        self.log(\"val_rmse\", rmse,  on_epoch=True,logger=True)\n",
    "\n",
    "    def test_step(self, batch, batch_idx):\n",
    "        _, loss, mae, rmse = self._get_preds_loss_mae_rmse(batch, batch_idx)\n",
    "        self.log(\"test_loss\", loss, on_step=True, on_epoch=True, prog_bar=True, logger=True)\n",
    "        self.log(\"test_mae\", mae, on_step=True, on_epoch=True, prog_bar=True, logger=True)\n",
    "        self.log(\"test_rmse\", rmse, on_step=True, on_epoch=True, prog_bar=True, logger=True)\n",
    "\n",
    "    def _get_preds_loss_mae_rmse(self, batch, batch_idx):\n",
    "        '''convenience function since train/valid/test steps are similar'''\n",
    "        y = batch.y\n",
    "        pred = self.forward(batch)\n",
    "        loss = self.loss_module(pred, y)\n",
    "        mae=mean_absolute_error(pred, y)\n",
    "        rmse=mean_squared_error(pred, y, squared=False)\n",
    "        return pred, loss, mae, rmse"
   ]
  },
  {
   "cell_type": "code",
   "execution_count": 44,
   "metadata": {},
   "outputs": [],
   "source": [
    "from pytorch_lightning.callbacks import Callback\n",
    "from pytorch_lightning.callbacks import ModelCheckpoint\n",
    "\n",
    "checkpoint_callback = ModelCheckpoint(monitor='val_mae', mode='min', save_top_k=1, save_last=True, verbose=True)\n",
    "\n",
    "class PrintCallback(Callback):\n",
    "    def on_train_start(self, trainer, pl_module):\n",
    "        print(\"Training is started!\")\n",
    "    def on_train_end(self, trainer, pl_module):\n",
    "        print(\"Training is done.\")"
   ]
  },
  {
   "cell_type": "code",
   "execution_count": 45,
   "metadata": {},
   "outputs": [
    {
     "name": "stderr",
     "output_type": "stream",
     "text": [
      "Global seed set to 42\n",
      "GPU available: False, used: False\n",
      "TPU available: False, using: 0 TPU cores\n",
      "IPU available: False, using: 0 IPUs\n",
      "HPU available: False, using: 0 HPUs\n"
     ]
    }
   ],
   "source": [
    "L.seed_everything(42)\n",
    "# sets seeds for numpy, torch and python.random.\n",
    "model = RoostLightning(**config)\n",
    "# trainer = Trainer(deterministic=True, logger=wandb_logger,max_epochs=1)\n",
    "trainer = Trainer(deterministic=True, max_epochs=1)"
   ]
  },
  {
   "cell_type": "code",
   "execution_count": 46,
   "metadata": {},
   "outputs": [
    {
     "name": "stderr",
     "output_type": "stream",
     "text": [
      "\n",
      "  | Name        | Type   | Params\n",
      "---------------------------------------\n",
      "0 | model       | Roost  | 2.7 M \n",
      "1 | loss_module | L1Loss | 0     \n",
      "---------------------------------------\n",
      "2.7 M     Trainable params\n",
      "0         Non-trainable params\n",
      "2.7 M     Total params\n",
      "10.866    Total estimated model params size (MB)\n"
     ]
    },
    {
     "data": {
      "application/vnd.jupyter.widget-view+json": {
       "model_id": "d9233de1b4994486aa671174d6be3e6a",
       "version_major": 2,
       "version_minor": 0
      },
      "text/plain": [
       "Sanity Checking: 0it [00:00, ?it/s]"
      ]
     },
     "metadata": {},
     "output_type": "display_data"
    },
    {
     "name": "stderr",
     "output_type": "stream",
     "text": [
      "/Users/patyukoe/opt/anaconda3/envs/py3-v3/lib/python3.8/site-packages/pytorch_lightning/trainer/connectors/data_connector.py:224: PossibleUserWarning: The dataloader, val_dataloader 0, does not have many workers which may be a bottleneck. Consider increasing the value of the `num_workers` argument` (try 4 which is the number of cpus on this machine) in the `DataLoader` init to improve performance.\n",
      "  rank_zero_warn(\n",
      "/Users/patyukoe/opt/anaconda3/envs/py3-v3/lib/python3.8/site-packages/pytorch_lightning/trainer/connectors/data_connector.py:224: PossibleUserWarning: The dataloader, train_dataloader, does not have many workers which may be a bottleneck. Consider increasing the value of the `num_workers` argument` (try 4 which is the number of cpus on this machine) in the `DataLoader` init to improve performance.\n",
      "  rank_zero_warn(\n"
     ]
    },
    {
     "data": {
      "application/vnd.jupyter.widget-view+json": {
       "model_id": "bfae83789bbe4ae289eda9593e82cd9b",
       "version_major": 2,
       "version_minor": 0
      },
      "text/plain": [
       "Training: 0it [00:00, ?it/s]"
      ]
     },
     "metadata": {},
     "output_type": "display_data"
    },
    {
     "name": "stderr",
     "output_type": "stream",
     "text": [
      "/Users/patyukoe/opt/anaconda3/envs/py3-v3/lib/python3.8/site-packages/pytorch_lightning/trainer/call.py:48: UserWarning: Detected KeyboardInterrupt, attempting graceful shutdown...\n",
      "  rank_zero_warn(\"Detected KeyboardInterrupt, attempting graceful shutdown...\")\n"
     ]
    }
   ],
   "source": [
    "trainer.fit(model,train_dataloaders=train_loader, val_dataloaders=val_loader)"
   ]
  },
  {
   "cell_type": "code",
   "execution_count": null,
   "metadata": {},
   "outputs": [],
   "source": []
  },
  {
   "cell_type": "code",
   "execution_count": null,
   "metadata": {},
   "outputs": [],
   "source": []
  },
  {
   "cell_type": "code",
   "execution_count": null,
   "metadata": {},
   "outputs": [],
   "source": []
  }
 ],
 "metadata": {
  "kernelspec": {
   "display_name": "py3-v3",
   "language": "python",
   "name": "python3"
  },
  "language_info": {
   "codemirror_mode": {
    "name": "ipython",
    "version": 3
   },
   "file_extension": ".py",
   "mimetype": "text/x-python",
   "name": "python",
   "nbconvert_exporter": "python",
   "pygments_lexer": "ipython3",
   "version": "3.8.16"
  },
  "orig_nbformat": 4
 },
 "nbformat": 4,
 "nbformat_minor": 2
}
